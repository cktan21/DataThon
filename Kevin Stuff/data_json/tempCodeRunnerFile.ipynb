for listies in df_clean['Introduction']:
#     for chunks in listies:
#         if 